{
 "cells": [
  {
   "cell_type": "code",
   "execution_count": 1,
   "id": "927b937f-994e-4bc0-9a7b-aadd97dfb4ff",
   "metadata": {},
   "outputs": [],
   "source": [
    "# Let's create a shapes dataset. We will start extremely simple, we will have circles and squares, and they can be blue or red. We will have slots \n",
    "# attend to a shape and then predict a) what the shape is, and b) what the color is. Baseline is random guess for each. \n",
    "\n",
    "# 1. Make sure slot attention module is correct (based on both PyTorch and TF githubs) DONE\n",
    "# 2. Make sure encoder is correct (based on both PyTorch and TF githubs)\n",
    "\n",
    "# ... learn how to use PyTorch Lightning, try quantization "
   ]
  },
  {
   "cell_type": "code",
   "execution_count": 555,
   "id": "17ff6053-fbb3-49c2-8075-dc8d8c0446e8",
   "metadata": {},
   "outputs": [],
   "source": [
    "import numpy as np\n",
    "import matplotlib.pyplot as plt\n",
    "from enum import Enum\n",
    "from typing import List \n",
    "import random\n",
    "import math \n",
    "from dataclasses import dataclass\n",
    "from torch.utils.data import Dataset, DataLoader, random_split\n",
    "import torch\n",
    "import torch.nn as nn\n",
    "import torch.nn.functional as F\n",
    "from tqdm import tqdm\n",
    "import torch.nn.init as init\n",
    "from typing import Callable, Optional, Tuple\n",
    "import os\n",
    "import h5py\n",
    "from torchvision import transforms\n",
    "import pytorch_lightning as pl\n",
    "import pickle"
   ]
  },
  {
   "cell_type": "code",
   "execution_count": 556,
   "id": "19ac01ce-3b0f-4ff7-9546-3e54ec7ab267",
   "metadata": {},
   "outputs": [],
   "source": [
    "class ShapeType(Enum):\n",
    "    CIRCLE = \"Circle\"\n",
    "    SQUARE = \"Square\"\n",
    "\n",
    "class ColorType(Enum):\n",
    "    RED = [255, 0, 0]\n",
    "    BLUE = [0, 0, 255]\n",
    "\n",
    "@dataclass(frozen=True)\n",
    "class Shape: \n",
    "    shape_type: ShapeType\n",
    "    color: ColorType \n",
    "    center: List[int]\n",
    "    \n",
    "\n",
    "@dataclass(frozen=True)\n",
    "class ImageData:\n",
    "    circle: Shape\n",
    "    square: Shape"
   ]
  },
  {
   "cell_type": "code",
   "execution_count": 557,
   "id": "daa445a6-bea0-45f8-8a29-bdda9502152c",
   "metadata": {},
   "outputs": [],
   "source": [
    "RADIUS = 5\n",
    "IMAGE_SIZE = 30\n",
    "DATASET_SIZE = 500\n",
    "assert 2*RADIUS < IMAGE_SIZE"
   ]
  },
  {
   "cell_type": "code",
   "execution_count": 558,
   "id": "7015c598-9a2c-45a5-bc3d-60626b933074",
   "metadata": {},
   "outputs": [],
   "source": [
    "def create_random_shape_image(image_size: int, radius: int) -> np.ndarray:\n",
    "    \"\"\"Create random shape mask\"\"\"\n",
    "    assert 2*radius < image_size\n",
    "    \n",
    "    # Create a blank grey image (using 3 channels for RGB)\n",
    "    image = np.ones((image_size, image_size, 3), dtype=np.uint8) * 200  # Grey background\n",
    "\n",
    "    # Choose two random centers from a grid of possible values\n",
    "    grid_values = [i*RADIUS for i in range(1, IMAGE_SIZE//RADIUS)]\n",
    "    x1, y1, x2, y2 = random.sample(range(len(grid_values)), 4)\n",
    "    center_1 = [grid_values[x1], grid_values[y1]]\n",
    "    center_2 = [grid_values[x2], grid_values[y2]]\n",
    "\n",
    "    # Choose random colors\n",
    "    color_1 = COLORS[random.randint(0, len(COLORS) - 1)]\n",
    "    color_2 = COLORS[random.randint(0, len(COLORS) - 1)]\n",
    "    \n",
    "    # Create a grid of pixel coordinates\n",
    "    y, x = np.ogrid[:image_size, :image_size]  \n",
    "\n",
    "    # Construct circle mask \n",
    "    distance_from_center = (x - center_1[0])**2 + (y - center_1[1])**2  # Euclidean distance squared\n",
    "    mask = distance_from_center <= radius**2  # Circle condition\n",
    "    image[mask] = color_1.value\n",
    "\n",
    "    # Construct square maks\n",
    "    mask = (((x >= center_2[0] - radius) * (x <= center_2[0] + radius)) * ((y >= center_2[0] - radius) * (y <= center_2[0] + radius)))\n",
    "    image[mask] = color_2.value  \n",
    "    \n",
    "    return image"
   ]
  },
  {
   "cell_type": "code",
   "execution_count": 559,
   "id": "9933f61f-2592-4e85-a8b2-5dac79fb5bd7",
   "metadata": {},
   "outputs": [],
   "source": [
    "def create_two_shape_dataset(image_size: int, radius: int, dataset_size: int) -> List[ImageData]:\n",
    "    image_data = []\n",
    "\n",
    "    for _ in range(dataset_size): \n",
    "        # Choose two random centers from a grid of possible values\n",
    "        grid_values = [i*RADIUS for i in range(1, IMAGE_SIZE//RADIUS)]\n",
    "        x1, y1, x2, y2 = random.sample(range(len(grid_values)), 4)\n",
    "        center_1 = [grid_values[x1], grid_values[y1]]\n",
    "        center_2 = [grid_values[x2], grid_values[y2]]\n",
    "    \n",
    "        # Choose random colors\n",
    "        color_1, color_2 = random.choices([x for x in ColorType], k=2)\n",
    "    \n",
    "        circle = Shape(shape_type=ShapeType.CIRCLE, color=random.choice([x for x in ColorType]), center=center_1)\n",
    "        square = Shape(shape_type=ShapeType.SQUARE, color=random.choice([x for x in ColorType]), center=center_2)\n",
    "    \n",
    "        image_data.append(ImageData(circle=circle, square=square))\n",
    "\n",
    "    return image_data"
   ]
  },
  {
   "cell_type": "code",
   "execution_count": 560,
   "id": "efa408c4-bca4-4804-9aca-4ae372197f40",
   "metadata": {},
   "outputs": [],
   "source": [
    "class ShapeDataset(Dataset):\n",
    "    def __init__(self, image_size: int, radius: int, dataset_size: int):\n",
    "        self.image_size = image_size\n",
    "        self.radius = radius\n",
    "        self.dataset_size = dataset_size\n",
    "        self.data = create_two_shape_dataset(self.image_size, self.radius, self.dataset_size)\n",
    "\n",
    "    def __len__(self):\n",
    "        # Return the total number of samples\n",
    "        return len(self.data)\n",
    "\n",
    "    def __getitem__(self, idx):\n",
    "        # Retrieve a single sample (features and label) by index\n",
    "        image_data = self.data[idx]\n",
    "\n",
    "        # Create a blank grey image (using 3 channels for RGB)\n",
    "        image = np.ones((self.image_size, self.image_size, 3), dtype=np.uint8) * 200  # Grey background\n",
    "        \n",
    "        # Create a grid of pixel coordinates\n",
    "        y, x = np.ogrid[:self.image_size, :self.image_size]  \n",
    "    \n",
    "        # Construct circle mask \n",
    "        distance_from_center = (x - image_data.circle.center[0])**2 + (y - image_data.circle.center[1])**2  # Euclidean distance squared\n",
    "        mask = distance_from_center <= self.radius**2  # Circle condition\n",
    "        image[mask] = image_data.circle.color.value\n",
    "    \n",
    "        # Construct square maks\n",
    "        mask = (((x >= image_data.square.center[0] - self.radius) * (x <= image_data.square.center[0] + self.radius)) * ((y >= image_data.square.center[0] - self.radius) * (y <= image_data.square.center[0] + self.radius)))\n",
    "        image[mask] = image_data.square.color.value  \n",
    "\n",
    "        # label = np.zeros(4)\n",
    "        # if image_data.circle.color.name == \"RED\" and image_data.square.color.name == \"RED\":\n",
    "        #     label[0] = 1\n",
    "        # elif image_data.circle.color.name == \"RED\" and image_data.square.color.name == \"BLUE\":\n",
    "        #     label[1] = 1\n",
    "        # elif image_data.circle.color.name == \"BLUE\" and image_data.square.color.name == \"RED\":\n",
    "        #     label[2] = 1\n",
    "        # elif image_data.circle.color.name == \"BLUE\" and image_data.square.color.name == \"BLUE\":\n",
    "        #     label[3] = 1\n",
    "\n",
    "        label = np.zeros(2)\n",
    "        if image_data.circle.color.name == \"RED\":\n",
    "            label[0] = 0\n",
    "        else:\n",
    "            label[0] = 1\n",
    "\n",
    "        if image_data.square.color.name == \"RED\":\n",
    "            label[1] = 0\n",
    "        else:\n",
    "            label[1] = 1\n",
    "\n",
    "\n",
    "        return torch.tensor(image, dtype=torch.float32).permute(2, 0, 1), label"
   ]
  },
  {
   "cell_type": "code",
   "execution_count": 566,
   "id": "12e6a553-7117-4312-b878-e6c4f793dc2f",
   "metadata": {},
   "outputs": [],
   "source": [
    "class TetrominoesDataset(Dataset):\n",
    "    def __init__(\n",
    "        self,\n",
    "        data_root: str,\n",
    "        tetrominoes_transforms: Callable,\n",
    "        mask_transforms: Callable,\n",
    "        max_n_objects: Optional[int] = 4,\n",
    "        split: str = \"train\",\n",
    "    ):\n",
    "        super().__init__()\n",
    "        self.data_root = data_root\n",
    "        self.tetrominoes_transforms = tetrominoes_transforms\n",
    "        self.mask_transforms = mask_transforms\n",
    "        self.max_n_objects = max_n_objects\n",
    "        self.split = split\n",
    "        assert os.path.exists(self.data_root), f\"Path {self.data_root} does not exist\"\n",
    "        assert self.split == \"train\" or self.split == \"val\" or self.split == \"test\"\n",
    "\n",
    "        self.data = h5py.File(self.data_root, \"r\")\n",
    "        if self.max_n_objects:\n",
    "            if self.split == \"train\":\n",
    "                num_objects_in_scene = np.sum(self.data[\"visibility\"][:10_000], axis=1)\n",
    "            elif self.split == \"val\":\n",
    "                num_objects_in_scene = np.sum(\n",
    "                    self.data[\"visibility\"][10_001:10_300], axis=1\n",
    "                )\n",
    "            elif self.split == \"test\":\n",
    "                num_objects_in_scene = np.sum(\n",
    "                    self.data[\"visibility\"][75_001:90_000], axis=1\n",
    "                )\n",
    "            else:\n",
    "                raise NotImplementedError\n",
    "            num_objects_in_scene -= 1  # remove background\n",
    "            self.indices = (\n",
    "                np.argwhere(num_objects_in_scene <= self.max_n_objects).flatten()\n",
    "                + {\"train\": 0, \"val\": 60_001, \"test\": 75_001}[self.split]\n",
    "            )\n",
    "\n",
    "    def __getitem__(self, index: int):\n",
    "        if self.max_n_objects:\n",
    "            index_to_load = self.indices[index]\n",
    "        else:\n",
    "            index_to_load = index\n",
    "        img = self.data[\"image\"][index_to_load]\n",
    "        if self.split == \"train\":\n",
    "            return self.tetrominoes_transforms(img)\n",
    "        else:\n",
    "            mask = self.data[\"mask\"][index_to_load]\n",
    "            vis = self.data[\"visibility\"][index_to_load]\n",
    "            return self.tetrominoes_transforms(img), self.mask_transforms(mask), vis\n",
    "\n",
    "    def __len__(self):\n",
    "        return len(self.indices if self.max_n_objects else self.data[\"image\"])"
   ]
  },
  {
   "cell_type": "code",
   "execution_count": 567,
   "id": "aea82009-e7de-4281-9cbb-d1a1dc12b5a7",
   "metadata": {},
   "outputs": [],
   "source": [
    "def flatten_all_but_last(tensor, n_dims=1):\n",
    "    shape = list(tensor.shape)\n",
    "    batch_dims = shape[:-n_dims]\n",
    "    flat_tensor = torch.reshape(tensor, [np.prod(batch_dims)] + shape[-n_dims:])\n",
    "\n",
    "    def unflatten(other_tensor):\n",
    "        other_shape = list(other_tensor.shape)\n",
    "        return torch.reshape(other_tensor, batch_dims + other_shape[1:])\n",
    "\n",
    "    return flat_tensor, unflatten"
   ]
  },
  {
   "cell_type": "code",
   "execution_count": 568,
   "id": "992d8b95-542b-4cdf-9281-72430b9289d7",
   "metadata": {},
   "outputs": [],
   "source": [
    "def mask_transforms(mask):\n",
    "    # Based on https://github.com/deepmind/deepmind-research/blob/master/iodine/modules/data.py#L115\n",
    "    # `mask` has shape [max_num_entities, height, width, channels]\n",
    "    mask = torch.from_numpy(mask)\n",
    "    mask = torch.permute(mask, [0, 3, 1, 2])\n",
    "    # `mask` has shape [max_num_entities, channels, height, width]\n",
    "    flat_mask, unflatten = flatten_all_but_last(mask, n_dims=3)\n",
    "    resize = transforms.Resize(\n",
    "        (35, 35), interpolation=transforms.InterpolationMode.NEAREST\n",
    "    )\n",
    "    flat_mask = resize.forward(flat_mask)\n",
    "    mask = unflatten(flat_mask)\n",
    "    # `mask` has shape [max_num_entities, channels, height, width]\n",
    "    mask = torch.permute(mask, [0, 2, 3, 1])\n",
    "    # `mask` has shape [max_num_entities, height, width, channels]\n",
    "    return mask"
   ]
  },
  {
   "cell_type": "code",
   "execution_count": 585,
   "id": "ab0fc688-b378-4577-bb8e-397e9e42ebc3",
   "metadata": {},
   "outputs": [],
   "source": [
    "def rescale(x: torch.Tensor) -> torch.Tensor:\n",
    "    return x * 2 - 1"
   ]
  },
  {
   "cell_type": "code",
   "execution_count": 593,
   "id": "1f5a2d5a-ba77-4d1d-ace0-4ddef96870fa",
   "metadata": {},
   "outputs": [
    {
     "data": {
      "text/plain": [
       "<matplotlib.image.AxesImage at 0x308cfded0>"
      ]
     },
     "execution_count": 593,
     "metadata": {},
     "output_type": "execute_result"
    },
    {
     "data": {
      "image/png": "[encoded data removed]",
      "text/plain": [
       "<Figure size 640x480 with 1 Axes>"
      ]
     },
     "metadata": {},
     "output_type": "display_data"
    }
   ],
   "source": [
    "data_path = \"/Users/kirkswanson/PyTorchPractice/data/tetrominoes.h5\"\n",
    "\n",
    "current_transforms = [\n",
    "                # image has shape (H x W x C)\n",
    "                transforms.ToTensor(),  # rescales to range [0.0, 1.0]\n",
    "                # image has shape (C x H x W)\n",
    "            ]\n",
    "current_transforms.append(\n",
    "                    transforms.Lambda(rescale)\n",
    "                )  # rescale between -1 and 1\n",
    "current_transforms.append(\n",
    "    transforms.Resize(\n",
    "        (35, 35), interpolation=transforms.InterpolationMode.NEAREST\n",
    "    )\n",
    ")\n",
    "tetrominoes_transforms = transforms.Compose(current_transforms)\n",
    "\n",
    "# dataset = TetrominoesDataset(data_path, tetrominoes_transforms=tetrominoes_transforms, mask_transforms=None)\n",
    "\n",
    "train_dataset = TetrominoesDataset(\n",
    "            data_root=data_path,\n",
    "            tetrominoes_transforms=tetrominoes_transforms,\n",
    "            mask_transforms=mask_transforms,\n",
    "            split=\"train\",\n",
    "            max_n_objects=3,\n",
    ")\n",
    "val_dataset = TetrominoesDataset(\n",
    "            data_root=data_path,\n",
    "            tetrominoes_transforms=tetrominoes_transforms,\n",
    "            mask_transforms=mask_transforms,\n",
    "            split=\"val\",\n",
    "            max_n_objects=3,\n",
    ")\n",
    "image_translated = ((train_dataset[0] + 1) / 2) * 255\n",
    "plt.imshow(image_translated.permute(1, 2, 0).int())"
   ]
  },
  {
   "cell_type": "code",
   "execution_count": 594,
   "id": "c7599ec1-dd6f-4992-a84d-0962edda385b",
   "metadata": {},
   "outputs": [],
   "source": [
    "def build_grid(resolution):\n",
    "    ranges = [torch.linspace(0., 1., steps=res) for res in resolution]\n",
    "    grid = torch.stack(torch.meshgrid(*ranges, indexing=\"ij\"), dim=-1)\n",
    "    grid = grid.unsqueeze(0)  # Add batch dimension\n",
    "    return torch.cat([grid, 1.0 - grid], dim=-1).to(device)"
   ]
  },
  {
   "cell_type": "code",
   "execution_count": 595,
   "id": "0d4459e0-6dc5-4d8f-9315-451273ccedcc",
   "metadata": {},
   "outputs": [],
   "source": [
    "class SoftPositionEmbed(nn.Module):\n",
    "    def __init__(self, hidden_size, resolution):\n",
    "        super(SoftPositionEmbed, self).__init__()\n",
    "        self.embedding = nn.Linear(4, hidden_size).to(device)\n",
    "        self.grid = build_grid(resolution)\n",
    "\n",
    "    def forward(self, inputs):\n",
    "        grid = self.embedding(self.grid)\n",
    "        return inputs + grid\n",
    "        "
   ]
  },
  {
   "cell_type": "code",
   "execution_count": 596,
   "id": "b07247a6-40a2-4e55-9fb6-6017def1918e",
   "metadata": {},
   "outputs": [],
   "source": [
    "class SlotAttention(nn.Module):\n",
    "    def __init__(self, num_slots: int, dim: int, iters: int = 3, epsilon: float = 1e-8, hidden_size: int = 128):\n",
    "        super(SlotAttention, self).__init__()\n",
    "        self.num_slots = num_slots\n",
    "        self.iters = iters\n",
    "        self.epsilon = epsilon\n",
    "        self.scale = dim ** -0.5\n",
    "\n",
    "        self.slots_mu = nn.Parameter(torch.randn(1, 1, dim)).to(device)\n",
    "        self.slots_log_sigma = nn.Parameter(torch.randn(1, 1, dim)).to(device)\n",
    "\n",
    "        self.project_q = nn.Linear(dim, dim).to(device)\n",
    "        self.project_k = nn.Linear(dim, dim).to(device)\n",
    "        self.project_v = nn.Linear(dim, dim).to(device)\n",
    "\n",
    "        self.gru = nn.GRUCell(dim, dim).to(device)\n",
    "\n",
    "        self.fc1 = nn.Linear(dim, hidden_size).to(device)\n",
    "        self.fc2 = nn.Linear(hidden_size, dim).to(device)\n",
    "\n",
    "        self.norm_input = nn.LayerNorm(dim).to(device)\n",
    "        self.norm_slots = nn.LayerNorm(dim).to(device)\n",
    "        self.norm_mlp = nn.LayerNorm(dim).to(device)\n",
    "\n",
    "        self.slot_mlp = nn.Sequential(self.norm_mlp, self.fc1, nn.ReLU(), self.fc2).to(device)\n",
    "\n",
    "    def forward(self, inputs: torch.tensor) -> torch.tensor: \n",
    "        B, N, D = inputs.shape\n",
    "\n",
    "        mu = self.slots_mu.expand(B, self.num_slots, -1)\n",
    "        sigma = torch.exp(self.slots_log_sigma.expand(B, self.num_slots, -1))\n",
    "        slots = torch.normal(mu, sigma)\n",
    "\n",
    "        inputs = self.norm_input(inputs)\n",
    "        k, v = self.project_k(inputs), self.project_v(inputs)\n",
    "\n",
    "        for _ in range(self.iters):\n",
    "            slots_prev = slots\n",
    "\n",
    "            slots = self.norm_slots(slots)\n",
    "            q = self.project_q(slots)\n",
    "\n",
    "            attn = torch.einsum('bid,bjd->bij', q, k) * self.scale\n",
    "            attn = attn.softmax(dim=1) + self.epsilon\n",
    "            attn = attn / attn.sum(dim=-1, keepdim=True)\n",
    "\n",
    "            updates = torch.einsum('bjd,bij->bid', v, attn)\n",
    "\n",
    "            slots = self.gru(\n",
    "                updates.reshape(-1, D),\n",
    "                slots_prev.reshape(-1, D),\n",
    "            )\n",
    "\n",
    "            slots = slots.reshape(B, -1, D)\n",
    "            slots = slots + self.slot_mlp(slots)\n",
    "\n",
    "        return slots\n",
    "\n",
    "        "
   ]
  },
  {
   "cell_type": "code",
   "execution_count": 597,
   "id": "64b14f83-b1b4-4852-ba4d-04138a2bc135",
   "metadata": {},
   "outputs": [],
   "source": [
    "class Encoder(nn.Module):\n",
    "    def __init__(self, resolution, hid_dim):\n",
    "        super().__init__()\n",
    "        self.conv1 = nn.Conv2d(3, hid_dim, 5, padding = 2).to(device)\n",
    "        self.conv2 = nn.Conv2d(hid_dim, hid_dim, 5, padding = 2).to(device)\n",
    "        self.conv3 = nn.Conv2d(hid_dim, hid_dim, 5, padding = 2).to(device)\n",
    "        self.conv4 = nn.Conv2d(hid_dim, hid_dim, 5, padding = 2).to(device)\n",
    "        self.encoder_pos = SoftPositionEmbed(hid_dim, resolution).to(device)\n",
    "\n",
    "    def forward(self, x):\n",
    "        x = self.conv1(x)\n",
    "        x = F.relu(x)\n",
    "        x = self.conv2(x)\n",
    "        x = F.relu(x)\n",
    "        x = self.conv3(x)\n",
    "        x = F.relu(x)\n",
    "        x = self.conv4(x)\n",
    "        x = F.relu(x)\n",
    "        x = x.permute(0,2,3,1)\n",
    "        x = self.encoder_pos(x)\n",
    "        x = torch.flatten(x, 1, 2)\n",
    "        return x"
   ]
  },
  {
   "cell_type": "code",
   "execution_count": 617,
   "id": "7f96c2b5-1183-463d-8858-620297bc468d",
   "metadata": {},
   "outputs": [
    {
     "name": "stdout",
     "output_type": "stream",
     "text": [
      "torch.Size([32, 32, 35, 35])\n",
      "torch.Size([32, 4, 35, 35])\n"
     ]
    }
   ],
   "source": [
    "x = torch.randn(32, 35, 35, 32).permute(0,3,1,2)\n",
    "print(x.shape)\n",
    "x = nn.ConvTranspose2d(32, 4, 3, stride=(1, 1), padding=1)(x)\n",
    "print(x.shape)"
   ]
  },
  {
   "cell_type": "code",
   "execution_count": 618,
   "id": "761100f9-2fc2-4a87-ae94-8001b4471e88",
   "metadata": {},
   "outputs": [],
   "source": [
    "class Decoder(nn.Module):\n",
    "    def __init__(self, hid_dim, resolution):\n",
    "        super().__init__()\n",
    "        # self.conv1 = nn.ConvTranspose2d(hid_dim, hid_dim, 5, stride=(2, 2), padding=2, output_padding=1).to(device)\n",
    "        # self.conv2 = nn.ConvTranspose2d(hid_dim, hid_dim, 5, stride=(2, 2), padding=2, output_padding=1).to(device)\n",
    "        # self.conv3 = nn.ConvTranspose2d(hid_dim, hid_dim, 5, stride=(2, 2), padding=2, output_padding=1).to(device)\n",
    "        # self.conv4 = nn.ConvTranspose2d(hid_dim, hid_dim, 5, stride=(2, 2), padding=2, output_padding=1).to(device)\n",
    "        # self.conv5 = nn.ConvTranspose2d(hid_dim, hid_dim, 5, stride=(1, 1), padding=2).to(device)\n",
    "        # self.conv6 = nn.ConvTranspose2d(hid_dim, 4, 3, stride=(1, 1), padding=1).to(device)\n",
    "        # self.decoder_initial_size = (8, 8)\n",
    "        self.decoder_initial_size = (35, 35)\n",
    "        self.conv1 = nn.ConvTranspose2d(hid_dim, hid_dim, 5, stride=(1, 1), padding=2).to(device)\n",
    "        self.conv2 = nn.ConvTranspose2d(hid_dim, hid_dim, 5, stride=(1, 1), padding=2).to(device)\n",
    "        self.conv3 = nn.ConvTranspose2d(hid_dim, hid_dim, 5, stride=(1, 1), padding=2).to(device)\n",
    "        self.conv4 = nn.ConvTranspose2d(hid_dim, 4, 3, stride=(1, 1), padding=1).to(device)\n",
    "        self.decoder_pos = SoftPositionEmbed(hid_dim, self.decoder_initial_size).to(device)\n",
    "        self.resolution = resolution\n",
    "\n",
    "    def forward(self, x):\n",
    "        x = self.decoder_pos(x)\n",
    "        x = x.permute(0,3,1,2)\n",
    "        x = self.conv1(x)\n",
    "        x = F.relu(x)\n",
    "        x = self.conv2(x)\n",
    "        x = F.relu(x)\n",
    "#         x = F.pad(x, (4,4,4,4)) # no longer needed\n",
    "        x = self.conv3(x)\n",
    "        x = F.relu(x)\n",
    "        x = self.conv4(x)\n",
    "        x = F.relu(x)\n",
    "        # x = self.conv5(x)\n",
    "        # x = F.relu(x)\n",
    "        # x = self.conv6(x)\n",
    "        x = x[:,:,:self.resolution[0], :self.resolution[1]]\n",
    "        x = x.permute(0,2,3,1)\n",
    "        return x"
   ]
  },
  {
   "cell_type": "code",
   "execution_count": 619,
   "id": "43e04020-a424-4271-99f9-8987a8dbdcaa",
   "metadata": {},
   "outputs": [],
   "source": [
    "class SlotAttentionAutoEncoder(nn.Module):\n",
    "    def __init__(self, resolution, num_slots, num_iterations, hidden_size):\n",
    "        super(SlotAttentionAutoEncoder, self).__init__()\n",
    "        self.hidden_size = hidden_size\n",
    "        self.resolution = resolution\n",
    "        self.num_slots = num_slots\n",
    "        self.num_iterations = num_iterations\n",
    "\n",
    "        self.encoder_cnn = Encoder(self.resolution, self.hidden_size)\n",
    "        self.decoder_cnn = Decoder(self.hidden_size, self.resolution)\n",
    "\n",
    "        self.fc1 = nn.Linear(hidden_size, hidden_size)\n",
    "        self.fc2 = nn.Linear(hidden_size, hidden_size)\n",
    "\n",
    "        self.slot_attention = SlotAttention(\n",
    "            num_slots=self.num_slots,\n",
    "            dim=self.hidden_size,\n",
    "            iters = self.num_iterations,\n",
    "            epsilon=1e-8, \n",
    "            hidden_size=128)\n",
    "            \n",
    "    def forward(self, image):\n",
    "        x = self.encoder_cnn(image)\n",
    "        x = nn.LayerNorm(x.shape[1:]).to(device)(x)  #TODO understand this shape input\n",
    "\n",
    "        x = self.fc1(x)\n",
    "        x = F.relu(x)\n",
    "        x = self.fc2(x)\n",
    "\n",
    "        slots = self.slot_attention(x)\n",
    "\n",
    "        slots = slots.reshape((-1, slots.shape[-1])).unsqueeze(1).unsqueeze(2)\n",
    "        slots = slots.repeat((1, 35, 35, 1))\n",
    "\n",
    "        x = self.decoder_cnn(slots)\n",
    "\n",
    "        recons, masks = x.reshape(image.shape[0], -1, x.shape[1], x.shape[2], x.shape[3]).split([3,1], dim=-1)\n",
    "\n",
    "        # Normalize alpha masks over slots.\n",
    "        masks = nn.Softmax(dim=1)(masks)\n",
    "        recon_combined = torch.sum(recons * masks, dim=1)  # Recombine image.\n",
    "        recon_combined = recon_combined.permute(0,3,1,2)\n",
    "        # `recon_combined` has shape: [batch_size, width, height, num_channels].\n",
    "\n",
    "        return recon_combined, recons, masks, slots"
   ]
  },
  {
   "cell_type": "code",
   "execution_count": 620,
   "id": "3231bf2b-8d3c-458d-9f66-850561932198",
   "metadata": {},
   "outputs": [],
   "source": [
    "device = torch.device(\"mps\" if torch.backends.mps.is_available() and torch.backends.mps.is_built() else \"cpu\")"
   ]
  },
  {
   "cell_type": "code",
   "execution_count": null,
   "id": "2368bee9-24e8-4cc7-b116-d04ccd3258ba",
   "metadata": {},
   "outputs": [
    {
     "name": "stderr",
     "output_type": "stream",
     "text": [
      "156it [00:38,  4.06it/s]\n"
     ]
    },
    {
     "name": "stdout",
     "output_type": "stream",
     "text": [
      "Epoch 1, Iterations 156, Train Loss: 0.22137974039713543, Test Loss 0.02258460318788569\n"
     ]
    },
    {
     "name": "stderr",
     "output_type": "stream",
     "text": [
      "156it [00:38,  4.10it/s]\n"
     ]
    },
    {
     "name": "stdout",
     "output_type": "stream",
     "text": [
      "Epoch 2, Iterations 312, Train Loss: 0.22141048177083333, Test Loss 0.022615952694669685\n"
     ]
    },
    {
     "name": "stderr",
     "output_type": "stream",
     "text": [
      "156it [00:38,  4.09it/s]\n"
     ]
    },
    {
     "name": "stdout",
     "output_type": "stream",
     "text": [
      "Epoch 3, Iterations 468, Train Loss: 0.22137841796875, Test Loss 0.02260932262907637\n"
     ]
    },
    {
     "name": "stderr",
     "output_type": "stream",
     "text": [
      "156it [00:38,  4.08it/s]\n"
     ]
    },
    {
     "name": "stdout",
     "output_type": "stream",
     "text": [
      "Epoch 4, Iterations 624, Train Loss: 0.22144034830729167, Test Loss 0.022650368670199778\n"
     ]
    },
    {
     "name": "stderr",
     "output_type": "stream",
     "text": [
      "156it [00:38,  4.06it/s]\n"
     ]
    },
    {
     "name": "stdout",
     "output_type": "stream",
     "text": [
      "Epoch 5, Iterations 780, Train Loss: 0.22139310709635418, Test Loss 0.022631244456514397\n"
     ]
    },
    {
     "name": "stderr",
     "output_type": "stream",
     "text": [
      "156it [00:38,  4.09it/s]\n"
     ]
    },
    {
     "name": "stdout",
     "output_type": "stream",
     "text": [
      "Epoch 6, Iterations 936, Train Loss: 0.221384765625, Test Loss 0.022629319353306546\n"
     ]
    },
    {
     "name": "stderr",
     "output_type": "stream",
     "text": [
      "156it [00:39,  3.92it/s]\n"
     ]
    },
    {
     "name": "stdout",
     "output_type": "stream",
     "text": [
      "Epoch 7, Iterations 1092, Train Loss: 0.2213924357096354, Test Loss 0.022600430123349453\n"
     ]
    },
    {
     "name": "stderr",
     "output_type": "stream",
     "text": [
      "156it [00:44,  3.53it/s]\n"
     ]
    },
    {
     "name": "stdout",
     "output_type": "stream",
     "text": [
      "Epoch 8, Iterations 1248, Train Loss: 0.2214404093424479, Test Loss 0.022622341805316033\n"
     ]
    },
    {
     "name": "stderr",
     "output_type": "stream",
     "text": [
      "156it [00:43,  3.61it/s]\n"
     ]
    },
    {
     "name": "stdout",
     "output_type": "stream",
     "text": [
      "Epoch 9, Iterations 1404, Train Loss: 0.22141560872395832, Test Loss 0.022605053921963308\n"
     ]
    },
    {
     "name": "stderr",
     "output_type": "stream",
     "text": [
      "156it [00:42,  3.63it/s]\n"
     ]
    },
    {
     "name": "stdout",
     "output_type": "stream",
     "text": [
      "Epoch 10, Iterations 1560, Train Loss: 0.22139290364583333, Test Loss 0.02261278477120907\n"
     ]
    },
    {
     "name": "stderr",
     "output_type": "stream",
     "text": [
      "156it [00:43,  3.62it/s]\n"
     ]
    },
    {
     "name": "stdout",
     "output_type": "stream",
     "text": [
      "Epoch 11, Iterations 1716, Train Loss: 0.22139896647135418, Test Loss 0.022673599263455007\n"
     ]
    },
    {
     "name": "stderr",
     "output_type": "stream",
     "text": [
      "156it [00:43,  3.62it/s]\n"
     ]
    },
    {
     "name": "stdout",
     "output_type": "stream",
     "text": [
      "Epoch 12, Iterations 1872, Train Loss: 0.22136421712239585, Test Loss 0.02259595343407164\n"
     ]
    },
    {
     "name": "stderr",
     "output_type": "stream",
     "text": [
      "156it [00:43,  3.59it/s]\n"
     ]
    },
    {
     "name": "stdout",
     "output_type": "stream",
     "text": [
      "Epoch 13, Iterations 2028, Train Loss: 0.22136824544270833, Test Loss 0.022615592530433166\n"
     ]
    },
    {
     "name": "stderr",
     "output_type": "stream",
     "text": [
      "156it [00:43,  3.58it/s]\n"
     ]
    },
    {
     "name": "stdout",
     "output_type": "stream",
     "text": [
      "Epoch 14, Iterations 2184, Train Loss: 0.22141725667317708, Test Loss 0.02261187421514633\n"
     ]
    },
    {
     "name": "stderr",
     "output_type": "stream",
     "text": [
      "156it [00:43,  3.57it/s]\n"
     ]
    },
    {
     "name": "stdout",
     "output_type": "stream",
     "text": [
      "Epoch 15, Iterations 2340, Train Loss: 0.22138800048828125, Test Loss 0.022642518611664466\n"
     ]
    },
    {
     "name": "stderr",
     "output_type": "stream",
     "text": [
      "156it [00:44,  3.50it/s]\n"
     ]
    },
    {
     "name": "stdout",
     "output_type": "stream",
     "text": [
      "Epoch 16, Iterations 2496, Train Loss: 0.22139479573567708, Test Loss 0.02261855754446476\n"
     ]
    },
    {
     "name": "stderr",
     "output_type": "stream",
     "text": [
      "156it [00:44,  3.53it/s]\n"
     ]
    },
    {
     "name": "stdout",
     "output_type": "stream",
     "text": [
      "Epoch 17, Iterations 2652, Train Loss: 0.22136494954427083, Test Loss 0.022642739275668528\n"
     ]
    },
    {
     "name": "stderr",
     "output_type": "stream",
     "text": [
      "156it [00:43,  3.55it/s]\n"
     ]
    },
    {
     "name": "stdout",
     "output_type": "stream",
     "text": [
      "Epoch 18, Iterations 2808, Train Loss: 0.22148899332682292, Test Loss 0.022634567098414646\n"
     ]
    },
    {
     "name": "stderr",
     "output_type": "stream",
     "text": [
      "156it [00:44,  3.54it/s]\n"
     ]
    },
    {
     "name": "stdout",
     "output_type": "stream",
     "text": [
      "Epoch 19, Iterations 2964, Train Loss: 0.22146931966145833, Test Loss 0.02263412577040652\n"
     ]
    },
    {
     "name": "stderr",
     "output_type": "stream",
     "text": [
      "156it [00:44,  3.51it/s]\n"
     ]
    },
    {
     "name": "stdout",
     "output_type": "stream",
     "text": [
      "Epoch 20, Iterations 3120, Train Loss: 0.22140175374348958, Test Loss 0.022663895120012\n"
     ]
    },
    {
     "name": "stderr",
     "output_type": "stream",
     "text": [
      "156it [00:44,  3.51it/s]\n"
     ]
    },
    {
     "name": "stdout",
     "output_type": "stream",
     "text": [
      "Epoch 21, Iterations 3276, Train Loss: 0.22141377766927084, Test Loss 0.02262067033889446\n"
     ]
    },
    {
     "name": "stderr",
     "output_type": "stream",
     "text": [
      "156it [00:44,  3.53it/s]\n"
     ]
    },
    {
     "name": "stdout",
     "output_type": "stream",
     "text": [
      "Epoch 22, Iterations 3432, Train Loss: 0.22137650553385416, Test Loss 0.02263091980142796\n"
     ]
    },
    {
     "name": "stderr",
     "output_type": "stream",
     "text": [
      "156it [16:04,  6.18s/it]\n"
     ]
    },
    {
     "name": "stdout",
     "output_type": "stream",
     "text": [
      "Epoch 23, Iterations 3588, Train Loss: 0.22135882568359375, Test Loss 0.02263415367045301\n"
     ]
    },
    {
     "name": "stderr",
     "output_type": "stream",
     "text": [
      "156it [00:57,  2.72it/s]\n"
     ]
    },
    {
     "name": "stdout",
     "output_type": "stream",
     "text": [
      "Epoch 24, Iterations 3744, Train Loss: 0.2213800048828125, Test Loss 0.022627102567794474\n"
     ]
    },
    {
     "name": "stderr",
     "output_type": "stream",
     "text": [
      "143it [00:35,  4.09it/s]"
     ]
    }
   ],
   "source": [
    "model = SlotAttentionAutoEncoder(resolution=(35, 35), num_slots=4, num_iterations=3, hidden_size=32).to(device)\n",
    "# dataset = ShapeDataset(IMAGE_SIZE, RADIUS, DATASET_SIZE)\n",
    "warmup_steps = 10000\n",
    "learning_rate = 0.0004\n",
    "decay_rate = 0.5\n",
    "decay_steps = 100000\n",
    "criterion = nn.MSELoss()\n",
    "optimizer = torch.optim.Adam(model.parameters(), lr=learning_rate)\n",
    "\n",
    "\n",
    "train_dataloader = DataLoader(\n",
    "            train_dataset,\n",
    "            batch_size=64,\n",
    "            shuffle=True,\n",
    "            num_workers=0,\n",
    "            pin_memory=True,\n",
    "            drop_last=True,\n",
    "        )\n",
    "\n",
    "val_dataloader = DataLoader(\n",
    "            val_dataset,\n",
    "            batch_size=64,\n",
    "            shuffle=False,\n",
    "            num_workers=0,\n",
    "            pin_memory=True,\n",
    "            drop_last=True,\n",
    "        )\n",
    "\n",
    "# # Create the DataLoader instance\n",
    "# train_size = int(0.8 * len(dataset))  \n",
    "# test_size = len(dataset) - train_size  \n",
    "\n",
    "# # Split the dataset\n",
    "# train_dataset, test_dataset = random_split(dataset, [train_size, test_size])\n",
    "# train_loader = DataLoader(train_dataset, batch_size=64, shuffle=True)\n",
    "# test_loader = DataLoader(test_dataset, batch_size=64, shuffle=False)\n",
    "\n",
    "i = 0\n",
    "for epoch in range(1000):  \n",
    "    model.train()\n",
    "    train_loss = 0\n",
    "    for batch_idx, image in tqdm(enumerate(train_dataloader)):\n",
    "        i += 1\n",
    "\n",
    "        optimizer.zero_grad() \n",
    "\n",
    "        if i < warmup_steps:\n",
    "            learning_rate = learning_rate * (i / warmup_steps)\n",
    "        else:\n",
    "            learning_rate = learning_rate\n",
    "\n",
    "        learning_rate = learning_rate * (decay_rate ** (\n",
    "            i / decay_steps))\n",
    "\n",
    "        optimizer.param_groups[0]['lr'] = learning_rate\n",
    "\n",
    "        image = image.to(device)\n",
    "        recon_combined, recons, masks, slots = model(image)\n",
    "        loss = criterion(recon_combined, image)   \n",
    "        train_loss += loss\n",
    "\n",
    "        del recons, masks, slots\n",
    " \n",
    "        loss.backward()                    \n",
    "        optimizer.step()\n",
    "    \n",
    "    test_loss = 0\n",
    "    model.eval() \n",
    "    with torch.no_grad(): \n",
    "        for batch_idx, (image, mask, viz) in enumerate(val_dataloader):\n",
    "            image = image.to(device)\n",
    "            recon_combined, recons, masks, slots = model(image)\n",
    "            loss = criterion(recon_combined, image)\n",
    "            test_loss += loss\n",
    "            del recons, masks, slots\n",
    "    print(f\"Epoch {epoch + 1}, Iterations {i}, Train Loss: {train_loss.item() / len(train_loader)}, Test Loss {test_loss.item() / len(test_loader)}\")"
   ]
  },
  {
   "cell_type": "code",
   "execution_count": null,
   "id": "b8b853e3-250d-4a41-85fd-97e40cbfa903",
   "metadata": {},
   "outputs": [],
   "source": [
    "num_slots = 4\n",
    "image = train_dataset[0]\n",
    "x = test_image.permute(1, 2, 0).detach().numpy()\n",
    "plt.imshow(x)\n",
    "recon_combined, recons, masks, slots = model(image.unsqueeze(0))\n",
    "\n",
    "import matplotlib.pyplot as plt\n",
    "from PIL import Image as Image, ImageEnhance\n",
    "fig, ax = plt.subplots(1, 2 + num_slots, figsize=(15, 2))\n",
    "image = image.squeeze(0)\n",
    "recon_combined = recon_combined.squeeze(0)\n",
    "recons = recons.squeeze(0)\n",
    "masks = masks.squeeze(0)\n",
    "image = image.permute(1,2,0).cpu().numpy()\n",
    "recon_combined = recon_combined.permute(1,2,0)\n",
    "recon_combined = recon_combined.cpu().detach().numpy()\n",
    "recons = recons.cpu().detach().numpy()\n",
    "masks = masks.cpu().detach().numpy()\n",
    "ax[0].imshow(image)\n",
    "ax[0].set_title('Image')\n",
    "ax[1].imshow(recon_combined.astype(int))\n",
    "ax[1].set_title('Recon.')\n",
    "for i in range(4):\n",
    "  picture = recons[i] * masks[i] + (1 - masks[i])\n",
    "  ax[i + 2].imshow(picture.astype(int))\n",
    "  ax[i + 2].set_title('Slot %s' % str(i + 1))\n",
    "for i in range(len(ax)):\n",
    "  ax[i].grid(False)\n",
    "  ax[i].axis('off')"
   ]
  },
  {
   "cell_type": "code",
   "execution_count": 249,
   "id": "c676e9a4-e3b9-466f-a71f-b0e75741237e",
   "metadata": {},
   "outputs": [
    {
     "name": "stderr",
     "output_type": "stream",
     "text": [
      "0it [00:00, ?it/s]"
     ]
    },
    {
     "name": "stdout",
     "output_type": "stream",
     "text": [
      "KIRK torch.Size([32, 80, 80, 4])\n",
      "KIRK torch.Size([16, 2, 80, 80, 3]) torch.Size([16, 2, 80, 80, 1])\n"
     ]
    },
    {
     "name": "stderr",
     "output_type": "stream",
     "text": [
      "\n"
     ]
    },
    {
     "ename": "ValueError",
     "evalue": "Target size (torch.Size([])) must be the same as input size (torch.Size([8]))",
     "output_type": "error",
     "traceback": [
      "\u001b[0;31m---------------------------------------------------------------------------\u001b[0m",
      "\u001b[0;31mValueError\u001b[0m                                Traceback (most recent call last)",
      "Cell \u001b[0;32mIn[249], line 25\u001b[0m\n\u001b[1;32m     23\u001b[0m loss \u001b[38;5;241m=\u001b[39m \u001b[38;5;241m0\u001b[39m\n\u001b[1;32m     24\u001b[0m \u001b[38;5;28;01mfor\u001b[39;00m i \u001b[38;5;129;01min\u001b[39;00m \u001b[38;5;28mrange\u001b[39m(\u001b[38;5;28mlen\u001b[39m(output_logits)):\n\u001b[0;32m---> 25\u001b[0m     loss_v1 \u001b[38;5;241m=\u001b[39m \u001b[43mcriterion\u001b[49m\u001b[43m(\u001b[49m\u001b[43moutput_logits\u001b[49m\u001b[43m[\u001b[49m\u001b[43mi\u001b[49m\u001b[43m]\u001b[49m\u001b[43m[\u001b[49m\u001b[38;5;241;43m0\u001b[39;49m\u001b[43m]\u001b[49m\u001b[43m,\u001b[49m\u001b[43m \u001b[49m\u001b[43mlabels\u001b[49m\u001b[43m[\u001b[49m\u001b[43mi\u001b[49m\u001b[43m]\u001b[49m\u001b[43m[\u001b[49m\u001b[38;5;241;43m0\u001b[39;49m\u001b[43m]\u001b[49m\u001b[43m)\u001b[49m \u001b[38;5;241m+\u001b[39m criterion(output_logits[i][\u001b[38;5;241m1\u001b[39m], labels[i][\u001b[38;5;241m1\u001b[39m])\n\u001b[1;32m     26\u001b[0m     loss_v2 \u001b[38;5;241m=\u001b[39m criterion(output_logits[i][\u001b[38;5;241m0\u001b[39m], labels[i][\u001b[38;5;241m1\u001b[39m]) \u001b[38;5;241m+\u001b[39m criterion(output_logits[i][\u001b[38;5;241m1\u001b[39m], labels[i][\u001b[38;5;241m0\u001b[39m])\n\u001b[1;32m     27\u001b[0m     loss \u001b[38;5;241m=\u001b[39m loss \u001b[38;5;241m+\u001b[39m \u001b[38;5;28mmin\u001b[39m(loss_v1, loss_v2)\n",
      "File \u001b[0;32m~/miniconda3/envs/pytorch/lib/python3.10/site-packages/torch/nn/modules/module.py:1736\u001b[0m, in \u001b[0;36mModule._wrapped_call_impl\u001b[0;34m(self, *args, **kwargs)\u001b[0m\n\u001b[1;32m   1734\u001b[0m     \u001b[38;5;28;01mreturn\u001b[39;00m \u001b[38;5;28mself\u001b[39m\u001b[38;5;241m.\u001b[39m_compiled_call_impl(\u001b[38;5;241m*\u001b[39margs, \u001b[38;5;241m*\u001b[39m\u001b[38;5;241m*\u001b[39mkwargs)  \u001b[38;5;66;03m# type: ignore[misc]\u001b[39;00m\n\u001b[1;32m   1735\u001b[0m \u001b[38;5;28;01melse\u001b[39;00m:\n\u001b[0;32m-> 1736\u001b[0m     \u001b[38;5;28;01mreturn\u001b[39;00m \u001b[38;5;28;43mself\u001b[39;49m\u001b[38;5;241;43m.\u001b[39;49m\u001b[43m_call_impl\u001b[49m\u001b[43m(\u001b[49m\u001b[38;5;241;43m*\u001b[39;49m\u001b[43margs\u001b[49m\u001b[43m,\u001b[49m\u001b[43m \u001b[49m\u001b[38;5;241;43m*\u001b[39;49m\u001b[38;5;241;43m*\u001b[39;49m\u001b[43mkwargs\u001b[49m\u001b[43m)\u001b[49m\n",
      "File \u001b[0;32m~/miniconda3/envs/pytorch/lib/python3.10/site-packages/torch/nn/modules/module.py:1747\u001b[0m, in \u001b[0;36mModule._call_impl\u001b[0;34m(self, *args, **kwargs)\u001b[0m\n\u001b[1;32m   1742\u001b[0m \u001b[38;5;66;03m# If we don't have any hooks, we want to skip the rest of the logic in\u001b[39;00m\n\u001b[1;32m   1743\u001b[0m \u001b[38;5;66;03m# this function, and just call forward.\u001b[39;00m\n\u001b[1;32m   1744\u001b[0m \u001b[38;5;28;01mif\u001b[39;00m \u001b[38;5;129;01mnot\u001b[39;00m (\u001b[38;5;28mself\u001b[39m\u001b[38;5;241m.\u001b[39m_backward_hooks \u001b[38;5;129;01mor\u001b[39;00m \u001b[38;5;28mself\u001b[39m\u001b[38;5;241m.\u001b[39m_backward_pre_hooks \u001b[38;5;129;01mor\u001b[39;00m \u001b[38;5;28mself\u001b[39m\u001b[38;5;241m.\u001b[39m_forward_hooks \u001b[38;5;129;01mor\u001b[39;00m \u001b[38;5;28mself\u001b[39m\u001b[38;5;241m.\u001b[39m_forward_pre_hooks\n\u001b[1;32m   1745\u001b[0m         \u001b[38;5;129;01mor\u001b[39;00m _global_backward_pre_hooks \u001b[38;5;129;01mor\u001b[39;00m _global_backward_hooks\n\u001b[1;32m   1746\u001b[0m         \u001b[38;5;129;01mor\u001b[39;00m _global_forward_hooks \u001b[38;5;129;01mor\u001b[39;00m _global_forward_pre_hooks):\n\u001b[0;32m-> 1747\u001b[0m     \u001b[38;5;28;01mreturn\u001b[39;00m \u001b[43mforward_call\u001b[49m\u001b[43m(\u001b[49m\u001b[38;5;241;43m*\u001b[39;49m\u001b[43margs\u001b[49m\u001b[43m,\u001b[49m\u001b[43m \u001b[49m\u001b[38;5;241;43m*\u001b[39;49m\u001b[38;5;241;43m*\u001b[39;49m\u001b[43mkwargs\u001b[49m\u001b[43m)\u001b[49m\n\u001b[1;32m   1749\u001b[0m result \u001b[38;5;241m=\u001b[39m \u001b[38;5;28;01mNone\u001b[39;00m\n\u001b[1;32m   1750\u001b[0m called_always_called_hooks \u001b[38;5;241m=\u001b[39m \u001b[38;5;28mset\u001b[39m()\n",
      "File \u001b[0;32m~/miniconda3/envs/pytorch/lib/python3.10/site-packages/torch/nn/modules/loss.py:819\u001b[0m, in \u001b[0;36mBCEWithLogitsLoss.forward\u001b[0;34m(self, input, target)\u001b[0m\n\u001b[1;32m    818\u001b[0m \u001b[38;5;28;01mdef\u001b[39;00m \u001b[38;5;21mforward\u001b[39m(\u001b[38;5;28mself\u001b[39m, \u001b[38;5;28minput\u001b[39m: Tensor, target: Tensor) \u001b[38;5;241m-\u001b[39m\u001b[38;5;241m>\u001b[39m Tensor:\n\u001b[0;32m--> 819\u001b[0m     \u001b[38;5;28;01mreturn\u001b[39;00m \u001b[43mF\u001b[49m\u001b[38;5;241;43m.\u001b[39;49m\u001b[43mbinary_cross_entropy_with_logits\u001b[49m\u001b[43m(\u001b[49m\n\u001b[1;32m    820\u001b[0m \u001b[43m        \u001b[49m\u001b[38;5;28;43minput\u001b[39;49m\u001b[43m,\u001b[49m\n\u001b[1;32m    821\u001b[0m \u001b[43m        \u001b[49m\u001b[43mtarget\u001b[49m\u001b[43m,\u001b[49m\n\u001b[1;32m    822\u001b[0m \u001b[43m        \u001b[49m\u001b[38;5;28;43mself\u001b[39;49m\u001b[38;5;241;43m.\u001b[39;49m\u001b[43mweight\u001b[49m\u001b[43m,\u001b[49m\n\u001b[1;32m    823\u001b[0m \u001b[43m        \u001b[49m\u001b[43mpos_weight\u001b[49m\u001b[38;5;241;43m=\u001b[39;49m\u001b[38;5;28;43mself\u001b[39;49m\u001b[38;5;241;43m.\u001b[39;49m\u001b[43mpos_weight\u001b[49m\u001b[43m,\u001b[49m\n\u001b[1;32m    824\u001b[0m \u001b[43m        \u001b[49m\u001b[43mreduction\u001b[49m\u001b[38;5;241;43m=\u001b[39;49m\u001b[38;5;28;43mself\u001b[39;49m\u001b[38;5;241;43m.\u001b[39;49m\u001b[43mreduction\u001b[49m\u001b[43m,\u001b[49m\n\u001b[1;32m    825\u001b[0m \u001b[43m    \u001b[49m\u001b[43m)\u001b[49m\n",
      "File \u001b[0;32m~/miniconda3/envs/pytorch/lib/python3.10/site-packages/torch/nn/functional.py:3624\u001b[0m, in \u001b[0;36mbinary_cross_entropy_with_logits\u001b[0;34m(input, target, weight, size_average, reduce, reduction, pos_weight)\u001b[0m\n\u001b[1;32m   3621\u001b[0m     reduction_enum \u001b[38;5;241m=\u001b[39m _Reduction\u001b[38;5;241m.\u001b[39mget_enum(reduction)\n\u001b[1;32m   3623\u001b[0m \u001b[38;5;28;01mif\u001b[39;00m \u001b[38;5;129;01mnot\u001b[39;00m (target\u001b[38;5;241m.\u001b[39msize() \u001b[38;5;241m==\u001b[39m \u001b[38;5;28minput\u001b[39m\u001b[38;5;241m.\u001b[39msize()):\n\u001b[0;32m-> 3624\u001b[0m     \u001b[38;5;28;01mraise\u001b[39;00m \u001b[38;5;167;01mValueError\u001b[39;00m(\n\u001b[1;32m   3625\u001b[0m         \u001b[38;5;124mf\u001b[39m\u001b[38;5;124m\"\u001b[39m\u001b[38;5;124mTarget size (\u001b[39m\u001b[38;5;132;01m{\u001b[39;00mtarget\u001b[38;5;241m.\u001b[39msize()\u001b[38;5;132;01m}\u001b[39;00m\u001b[38;5;124m) must be the same as input size (\u001b[39m\u001b[38;5;132;01m{\u001b[39;00m\u001b[38;5;28minput\u001b[39m\u001b[38;5;241m.\u001b[39msize()\u001b[38;5;132;01m}\u001b[39;00m\u001b[38;5;124m)\u001b[39m\u001b[38;5;124m\"\u001b[39m\n\u001b[1;32m   3626\u001b[0m     )\n\u001b[1;32m   3628\u001b[0m \u001b[38;5;28;01mreturn\u001b[39;00m torch\u001b[38;5;241m.\u001b[39mbinary_cross_entropy_with_logits(\n\u001b[1;32m   3629\u001b[0m     \u001b[38;5;28minput\u001b[39m, target, weight, pos_weight, reduction_enum\n\u001b[1;32m   3630\u001b[0m )\n",
      "\u001b[0;31mValueError\u001b[0m: Target size (torch.Size([])) must be the same as input size (torch.Size([8]))"
     ]
    }
   ],
   "source": [
    "model = SlotAttentionAutoEncoder(resolution=(80, 80), num_slots=2, num_iterations=3, hidden_size=64)\n",
    "dataset = ShapeDataset(IMAGE_SIZE, RADIUS, DATASET_SIZE)\n",
    "# criterion = nn.CrossEntropyLoss()\n",
    "criterion = nn.BCEWithLogitsLoss()\n",
    "optimizer = torch.optim.Adam(model.parameters(), lr=0.0001)\n",
    "\n",
    "# Create the DataLoader instance\n",
    "train_size = int(0.8 * len(dataset))  # 80% for training\n",
    "test_size = len(dataset) - train_size  # The rest for testing\n",
    "\n",
    "# Split the dataset\n",
    "train_dataset, test_dataset = random_split(dataset, [train_size, test_size])\n",
    "train_loader = DataLoader(train_dataset, batch_size=16, shuffle=True)\n",
    "test_loader = DataLoader(test_dataset, batch_size=16, shuffle=True)\n",
    "\n",
    "for epoch in range(20):  # Example: 5 epochs\n",
    "# Iterate through the data loader (for example, in a training loop)\n",
    "    train_loss = 0\n",
    "    for batch_idx, (data, labels) in tqdm(enumerate(train_loader)):\n",
    "        optimizer.zero_grad()               # Clear gradients\n",
    "        output_logits = model(data)        # Forward pass\n",
    "        # Loss for slot 1 = square, slot 2 = circle\n",
    "        loss = 0\n",
    "        for i in range(len(output_logits)):\n",
    "            loss_v1 = criterion(output_logits[i][0], labels[i][0]) + criterion(output_logits[i][1], labels[i][1])\n",
    "            loss_v2 = criterion(output_logits[i][0], labels[i][1]) + criterion(output_logits[i][1], labels[i][0])\n",
    "            loss = loss + min(loss_v1, loss_v2)\n",
    "        loss.backward()                     # Backward pass\n",
    "        optimizer.step()\n",
    "        train_loss += loss\n",
    "    test_loss = 0\n",
    "    with torch.no_grad(): \n",
    "        for batch_idx, (data, labels) in enumerate(test_loader):\n",
    "            output_logits = model(data)        # Forward pass\n",
    "            for i in range(len(output_logits)):\n",
    "                loss_v1 = criterion(output_logits[i][0], labels[i][0]) + criterion(output_logits[i][1], labels[i][1])\n",
    "                loss_v2 = criterion(output_logits[i][0], labels[i][1]) + criterion(output_logits[i][1], labels[i][0])\n",
    "                test_loss += min(loss_v1, loss_v2)\n",
    "    print(f\"Epoch {epoch + 1}, Train Loss: {train_loss.item() / len(train_loader)}, Test Loss {test_loss.item() / len(test_loader)}\")"
   ]
  },
  {
   "cell_type": "code",
   "execution_count": 166,
   "id": "4289b1b1-4e52-4740-8235-9f7d469fe25b",
   "metadata": {},
   "outputs": [
    {
     "name": "stderr",
     "output_type": "stream",
     "text": [
      "Clipping input data to the valid range for imshow with RGB data ([0..1] for floats or [0..255] for integers). Got range [0.0..255.0].\n"
     ]
    },
    {
     "name": "stdout",
     "output_type": "stream",
     "text": [
      "tensor([[0.9999, 0.0038]], grad_fn=<SigmoidBackward0>)\n"
     ]
    },
    {
     "data": {
      "image/png": "[encoded data removed]",
      "text/plain": [
       "<Figure size 640x480 with 1 Axes>"
      ]
     },
     "metadata": {},
     "output_type": "display_data"
    }
   ],
   "source": [
    "test_image, test_label = train_dataset[0]\n",
    "x = test_image.permute(1, 2, 0).detach().numpy()\n",
    "plt.imshow(x)\n",
    "test_label\n",
    "output_logits = model(test_image.unsqueeze(0))  # Forward pass\n",
    "print(nn.Sigmoid()(output_logits))"
   ]
  },
  {
   "cell_type": "code",
   "execution_count": 130,
   "id": "a694873d-dfd2-4d6e-9e45-d7137fb2a92e",
   "metadata": {},
   "outputs": [
    {
     "data": {
      "text/plain": [
       "<matplotlib.image.AxesImage at 0x151aaa770>"
      ]
     },
     "execution_count": 130,
     "metadata": {},
     "output_type": "execute_result"
    },
    {
     "data": {
      "image/png": "[encoded data removed]",
      "text/plain": [
       "<Figure size 640x480 with 1 Axes>"
      ]
     },
     "metadata": {},
     "output_type": "display_data"
    }
   ],
   "source": [
    "plt.imshow(attn_logits.reshape(20, 20, 2)[:, :, 1])"
   ]
  },
  {
   "cell_type": "code",
   "execution_count": null,
   "id": "0149d840-441c-450c-95a5-d341497aeed9",
   "metadata": {},
   "outputs": [],
   "source": []
  },
  {
   "cell_type": "code",
   "execution_count": 845,
   "id": "3cf30cdd-4224-471d-8be6-d7e1233dcfd0",
   "metadata": {},
   "outputs": [],
   "source": [
    "test_image, test_label = test_dataset[1500]\n",
    "test_image = test_image.unsqueeze(0)\n",
    "# model = Model()\n",
    "# output = model(test_image.unsqueeze(0))\n",
    "\n",
    "\n",
    "# Convolutional Layer 1: Input channels = 3 (e.g., color image), Output channels = 16\n",
    "conv1 = nn.Conv2d(in_channels=3, out_channels=16, kernel_size=3, stride=1, padding=1)\n",
    "\n",
    "# Convolutional Layer 2: Input channels = 16, Output channels = 32\n",
    "conv2 = nn.Conv2d(in_channels=16, out_channels=32, kernel_size=3, stride=1, padding=1)\n",
    "positional_embedding = nn.Parameter(torch.randn(1, 32, 10, 10))\n",
    "\n",
    "# Pooling layer\n",
    "pool = nn.MaxPool2d(kernel_size=2, stride=2)\n",
    "\n",
    "# Slots\n",
    "slots = nn.Parameter(torch.normal(mean=0, std=1, size=(2, 32)))\n",
    "input_layer_norm = nn.LayerNorm(32)\n",
    "slot_layer_norm = nn.LayerNorm(32)\n",
    "slot_mlp_layer = nn.Linear(in_features=32, out_features=32)\n",
    "\n",
    "\n",
    "# Embedding layers\n",
    "k_embed = nn.Linear(in_features=32, out_features=32)\n",
    "v_embed = nn.Linear(in_features=32, out_features=32)\n",
    "q_embed = nn.Linear(in_features=32, out_features=32)\n",
    "gru = nn.GRUCell(32, 32)\n",
    "\n",
    "final_mlp_layer = nn.Linear(in_features=32, out_features=2)\n",
    "\n",
    "inputs = pool(conv2(pool(conv1(test_image)))) + positional_embedding\n",
    "inputs = input_layer_norm(k_embed(inputs.reshape(x.shape[0], -1, inputs.shape[1])))\n",
    "slots = q_embed(slots)\n",
    "slots = slots.unsqueeze(0).repeat(inputs.shape[0], 1, 1)  # [B, S, D]\n",
    "\n",
    "for _ in range(3): \n",
    "    prev_slots = slots  # [B, S, D]\n",
    "    slots = slot_layer_norm(slots).permute(0, 2, 1)  # [B, D, S]\n",
    "    attn = F.softmax(torch.bmm(inputs, slots)*1./math.sqrt(32), dim=-1)\n",
    "    attn = attn / attn.sum(dim=1)\n",
    "    attn = attn.permute(0, 2, 1)\n",
    "    values = v_embed(inputs)\n",
    "    updates = torch.bmm(attn, values)  # [B, S, D]\n",
    "    updated_slots = []\n",
    "    for i in range(updates.shape[1]):\n",
    "        updated_slots.append(gru(updates[:, i, :], prev_slots[:, i, :]).unsqueeze(1))\n",
    "    updated_slots = torch.cat(updated_slots, dim=1)\n",
    "    updated_slots = slot_layer_norm(updated_slots)\n",
    "    slots = slot_mlp_layer(updated_slots)\n",
    "\n",
    "outputs = final_mlp_layer(slots)"
   ]
  },
  {
   "cell_type": "code",
   "execution_count": 846,
   "id": "b980d229-7af7-4343-8564-f12754cba8db",
   "metadata": {},
   "outputs": [
    {
     "data": {
      "text/plain": [
       "torch.Size([1, 2, 2])"
      ]
     },
     "execution_count": 846,
     "metadata": {},
     "output_type": "execute_result"
    }
   ],
   "source": [
    "outputs.shape"
   ]
  },
  {
   "cell_type": "code",
   "execution_count": 817,
   "id": "c6d85303-e3b9-4dd2-b42f-2ee3c67aff34",
   "metadata": {},
   "outputs": [],
   "source": [
    "updated_slots = []\n",
    "for i in range(updates.shape[1]):\n",
    "    updated_slots.append(gru(updates[:, i, :], prev_slots[:, i, :]).unsqueeze(1))\n",
    "updated_slots = torch.cat(updated_slots, dim=1)"
   ]
  },
  {
   "cell_type": "code",
   "execution_count": 818,
   "id": "7ba07d05-e1de-4855-b03d-327c6f5dab19",
   "metadata": {},
   "outputs": [
    {
     "data": {
      "text/plain": [
       "torch.Size([5, 2, 32])"
      ]
     },
     "execution_count": 818,
     "metadata": {},
     "output_type": "execute_result"
    }
   ],
   "source": [
    "updated_slots.shape"
   ]
  },
  {
   "cell_type": "code",
   "execution_count": 759,
   "id": "6b67d919-ce28-4e91-aeb3-4a02a5a34802",
   "metadata": {},
   "outputs": [
    {
     "data": {
      "text/plain": [
       "torch.Size([1, 32])"
      ]
     },
     "execution_count": 759,
     "metadata": {},
     "output_type": "execute_result"
    }
   ],
   "source": [
    "updated_slot.shape"
   ]
  },
  {
   "cell_type": "code",
   "execution_count": null,
   "id": "b506bf22-7cb2-4030-9564-192356ed912b",
   "metadata": {},
   "outputs": [],
   "source": []
  }
 ],
 "metadata": {
  "kernelspec": {
   "display_name": "pytorch",
   "language": "python",
   "name": "pytorch"
  },
  "language_info": {
   "codemirror_mode": {
    "name": "ipython",
    "version": 3
   },
   "file_extension": ".py",
   "mimetype": "text/x-python",
   "name": "python",
   "nbconvert_exporter": "python",
   "pygments_lexer": "ipython3",
   "version": "3.10.15"
  }
 },
 "nbformat": 4,
 "nbformat_minor": 5
}
